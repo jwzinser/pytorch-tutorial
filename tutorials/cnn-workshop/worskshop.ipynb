{
 "cells": [
  {
   "cell_type": "markdown",
   "metadata": {},
   "source": [
    "[basics-of-image-classification-with-pytorch](https://heartbeat.fritz.ai/basics-of-image-classification-with-pytorch-2f8973c51864?gi=d1187e22f0e3)\n",
    "+ Good summary for an introduction to pytorch and image classification"
   ]
  },
  {
   "cell_type": "markdown",
   "metadata": {},
   "source": [
    "## CNN Arquitechture:\n",
    "+ Sequential CNN, MLP are usually fully connected networks.\n",
    "+ PyTorch was released by Facebook, and has a good balance between production and research capabilities.\n",
    "\n",
    "\n",
    "+ Convolution Layers\n",
    "\n",
    "![](conv2d.png)\n",
    "\n",
    "The number of channels is the number of filters introduced in a layer.\n",
    "\n",
    "+ Pooling Layers\n",
    "\n",
    "![](MaxPool2d.png)\n",
    "\n",
    "+ Activation Layers\n",
    "\n",
    "![](ReLU.png)\n",
    "\n",
    "+ Fully Connected Layers\n",
    "\n",
    "![](linear.png)\n"
   ]
  },
  {
   "cell_type": "code",
   "execution_count": null,
   "metadata": {},
   "outputs": [],
   "source": []
  }
 ],
 "metadata": {
  "kernelspec": {
   "display_name": "Python 3",
   "language": "python",
   "name": "python3"
  },
  "language_info": {
   "codemirror_mode": {
    "name": "ipython",
    "version": 3
   },
   "file_extension": ".py",
   "mimetype": "text/x-python",
   "name": "python",
   "nbconvert_exporter": "python",
   "pygments_lexer": "ipython3",
   "version": "3.6.8"
  }
 },
 "nbformat": 4,
 "nbformat_minor": 2
}

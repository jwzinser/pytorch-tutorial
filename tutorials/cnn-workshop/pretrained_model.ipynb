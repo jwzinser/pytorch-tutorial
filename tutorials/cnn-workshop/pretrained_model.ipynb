{
 "cells": [
  {
   "cell_type": "code",
   "execution_count": 1,
   "metadata": {},
   "outputs": [
    {
     "name": "stderr",
     "output_type": "stream",
     "text": [
      "/home/juanzinser/Workspace/pytorch-tutorial/venv/lib/python3.6/site-packages/torchvision/models/squeezenet.py:94: UserWarning: nn.init.kaiming_uniform is now deprecated in favor of nn.init.kaiming_uniform_.\n",
      "  init.kaiming_uniform(m.weight.data)\n",
      "/home/juanzinser/Workspace/pytorch-tutorial/venv/lib/python3.6/site-packages/torchvision/models/squeezenet.py:92: UserWarning: nn.init.normal is now deprecated in favor of nn.init.normal_.\n",
      "  init.normal(m.weight.data, mean=0.0, std=0.01)\n"
     ]
    }
   ],
   "source": [
    "# Import needed packages\n",
    "import torch\n",
    "import torch.nn as nn\n",
    "from torchvision.transforms import transforms\n",
    "import matplotlib.pyplot as plt\n",
    "import numpy as np\n",
    "from torch.autograd import Variable\n",
    "from torchvision.models import squeezenet1_1\n",
    "import torch.functional as F\n",
    "import requests\n",
    "import shutil\n",
    "from io import open\n",
    "import os\n",
    "from PIL import Image\n",
    "import json\n",
    "\n",
    "\"\"\" Instantiate model, this downloads tje 4.7 mb  squzzene the first time it is called.\n",
    "To use with your own model, re-define your trained networks ad load weights as below\n",
    "\n",
    "checkpoint = torch.load(\"pathtosavemodel\")\n",
    "model = SimpleNet(num_classes=10)\n",
    "\n",
    "\n",
    "model.load_state_dict(checkpoint)\n",
    "model.eval()\n",
    "\"\"\"\n",
    "\n",
    "#squeezenet_model_path = \"/Users/juanzinser/.torch/models/squeezenet1_1-f364aa15.pth\"\n",
    "model = squeezenet1_1(pretrained=True)\n",
    "#model = squeezenet1_1()\n",
    "#checkpoint = torch.load(squeezenet_model_path)\n",
    "#model.load_state_dict(checkpoint)\n",
    "\n",
    "model.eval()\n",
    "\n",
    "\n",
    "def predict_image(image_path):\n",
    "    print(\"Prediction in progress\")\n",
    "    image = Image.open(image_path)\n",
    "\n",
    "    # Define transformations for the image, should (note that imagenet models are trained with image size 224)\n",
    "    transformation = transforms.Compose([\n",
    "        transforms.CenterCrop(224),\n",
    "        transforms.ToTensor(),\n",
    "        transforms.Normalize((0.5, 0.5, 0.5), (0.5, 0.5, 0.5))\n",
    "\n",
    "    ])\n",
    "\n",
    "    # Preprocess the image\n",
    "    image_tensor = transformation(image).float()\n",
    "\n",
    "    # Add an extra batch dimension since pytorch treats all images as batches\n",
    "    image_tensor = image_tensor.unsqueeze_(0)\n",
    "\n",
    "    if torch.cuda.is_available():\n",
    "        image_tensor.cuda()\n",
    "\n",
    "    # Turn the input into a Variable\n",
    "    input = Variable(image_tensor)\n",
    "\n",
    "    # Predict the class of the image\n",
    "    output = model(input)\n",
    "\n",
    "    index = output.data.numpy().argmax()\n",
    "\n",
    "    return index"
   ]
  },
  {
   "cell_type": "code",
   "execution_count": 2,
   "metadata": {},
   "outputs": [
    {
     "name": "stdout",
     "output_type": "stream",
     "text": [
      "Prediction in progress\n",
      "Predicted Class  bicycle-built-for-two, tandem bicycle, tandem\n"
     ]
    }
   ],
   "source": [
    "if __name__ == \"__main__\":\n",
    "\n",
    "    imagefile = \"image.png\"\n",
    "\n",
    "    imagepath = os.path.join(os.getcwd(), imagefile)\n",
    "    # Donwload image if it doesn't exist\n",
    "    if not os.path.exists(imagepath):\n",
    "        data = requests.get(\n",
    "            \"https://github.com/OlafenwaMoses/ImageAI/raw/master/images/3.jpg\", stream=True)\n",
    "\n",
    "        with open(imagepath, \"wb\") as file:\n",
    "            shutil.copyfileobj(data.raw, file)\n",
    "\n",
    "        del data\n",
    "\n",
    "    index_file = \"imagenet1000_clsidx_to_labels.json\"\n",
    "\n",
    "    indexpath = os.path.join(os.getcwd(), index_file)\n",
    "    # Donwload class index if it doesn't exist\n",
    "    if not os.path.exists(indexpath):\n",
    "        data = requests.get('https://github.com/OlafenwaMoses/ImageAI/raw/master/imagenet_class_index.json')\n",
    "\n",
    "        with open(indexpath, \"w\", encoding=\"utf-8\") as file:\n",
    "            file.write(data.text)\n",
    "\n",
    "    with open(indexpath) as f:\n",
    "        class_map = json.loads(f.read())\n",
    "\n",
    "    # run prediction function annd obtain prediccted class index\n",
    "    index = predict_image(imagepath)\n",
    "\n",
    "    prediction = class_map[str(index)]\n",
    "\n",
    "    print(\"Predicted Class \", prediction)"
   ]
  },
  {
   "cell_type": "code",
   "execution_count": 4,
   "metadata": {},
   "outputs": [],
   "source": [
    "image = Image.open(imagepath)\n",
    "\n",
    "# Define transformations for the image, should (note that imagenet models are trained with image size 224)\n",
    "transformation = transforms.Compose([\n",
    "    transforms.CenterCrop(224),\n",
    "    transforms.ToTensor(),\n",
    "    transforms.Normalize((0.5, 0.5, 0.5), (0.5, 0.5, 0.5))\n",
    "\n",
    "])\n",
    "\n",
    "# Preprocess the image\n",
    "image_tensor = transformation(image).float()\n",
    "\n",
    "# Add an extra batch dimension since pytorch treats all images as batches\n",
    "image_tensor = image_tensor.unsqueeze_(0)\n",
    "\n",
    "if torch.cuda.is_available():\n",
    "    image_tensor.cuda()\n",
    "\n",
    "# Turn the input into a Variable\n",
    "input = Variable(image_tensor)"
   ]
  },
  {
   "cell_type": "code",
   "execution_count": 5,
   "metadata": {},
   "outputs": [],
   "source": [
    "import matplotlib.pyplot as plt"
   ]
  },
  {
   "cell_type": "code",
   "execution_count": 16,
   "metadata": {},
   "outputs": [
    {
     "name": "stdout",
     "output_type": "stream",
     "text": [
      "AxesImage(54,36;334.8x217.44)\n"
     ]
    },
    {
     "data": {
      "image/png": "[encoded data removed]",
      "text/plain": [
       "<Figure size 432x288 with 1 Axes>"
      ]
     },
     "metadata": {
      "needs_background": "light"
     },
     "output_type": "display_data"
    }
   ],
   "source": [
    "asd = model.features(input)\n",
    "print(plt.imshow(asd[0][5].detach().numpy()))"
   ]
  },
  {
   "cell_type": "code",
   "execution_count": 10,
   "metadata": {},
   "outputs": [
    {
     "data": {
      "text/plain": [
       "torch.Size([1, 512, 13, 13])"
      ]
     },
     "execution_count": 10,
     "metadata": {},
     "output_type": "execute_result"
    }
   ],
   "source": [
    "asd.shape"
   ]
  },
  {
   "cell_type": "code",
   "execution_count": null,
   "metadata": {},
   "outputs": [],
   "source": []
  }
 ],
 "metadata": {
  "kernelspec": {
   "display_name": "Python 3",
   "language": "python",
   "name": "python3"
  },
  "language_info": {
   "codemirror_mode": {
    "name": "ipython",
    "version": 3
   },
   "file_extension": ".py",
   "mimetype": "text/x-python",
   "name": "python",
   "nbconvert_exporter": "python",
   "pygments_lexer": "ipython3",
   "version": "3.6.8"
  }
 },
 "nbformat": 4,
 "nbformat_minor": 2
}
